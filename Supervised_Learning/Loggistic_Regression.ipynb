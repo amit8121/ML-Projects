{
 "cells": [
  {
   "cell_type": "code",
   "execution_count": 1,
   "metadata": {
    "ExecuteTime": {
     "end_time": "2020-05-17T20:44:45.778002Z",
     "start_time": "2020-05-17T20:44:44.863406Z"
    }
   },
   "outputs": [],
   "source": [
    "import numpy as np\n",
    "\n",
    "from numpy import linalg\n",
    "\n",
    "\n",
    "from sklearn.datasets import load_iris, load_digits\n",
    "\n",
    "from sklearn.preprocessing import LabelBinarizer\n",
    "from sklearn.metrics import log_loss, classification_report, precision_recall_curve\n",
    "\n",
    "from sklearn.linear_model import LogisticRegression\n",
    "\n",
    "\n",
    "import matplotlib.pyplot as plt"
   ]
  },
  {
   "cell_type": "code",
   "execution_count": 2,
   "metadata": {
    "ExecuteTime": {
     "end_time": "2020-05-17T20:44:51.465052Z",
     "start_time": "2020-05-17T20:44:45.779997Z"
    }
   },
   "outputs": [
    {
     "name": "stdout",
     "output_type": "stream",
     "text": [
      " Number of training rows in the dataset ... 925\n",
      " Number of testing rows in the dataset ... 925\n"
     ]
    }
   ],
   "source": [
    "tr_rows = int( input(\" Number of training rows in the dataset ... \") )\n",
    "\n",
    "te_rows = int( input(\" Number of testing rows in the dataset ... \") )"
   ]
  },
  {
   "cell_type": "code",
   "execution_count": 3,
   "metadata": {
    "ExecuteTime": {
     "end_time": "2020-05-17T20:44:51.544839Z",
     "start_time": "2020-05-17T20:44:51.467048Z"
    }
   },
   "outputs": [],
   "source": [
    "\n",
    "dataset = load_digits()\n",
    "lb = LabelBinarizer()\n",
    "\n",
    "\n",
    "\n",
    "X = dataset.data\n",
    "y = dataset.target\n",
    "\n",
    "lb.fit(y)\n",
    "\n",
    "data = np.concatenate((X,y.reshape(-1,1)), axis = 1)\n",
    "np.random.shuffle(data)\n",
    "\n",
    "X_train = data[:tr_rows, :-1]\n",
    "X_train_b = np.c_[np.ones((X_train.shape[0] , 1)), X_train]\n",
    "\n",
    "\n",
    "y_train = lb.transform( data[:tr_rows, -1] )\n",
    "y_train_sk = data[:tr_rows, -1]\n",
    "\n",
    "\n",
    "X_test = data[te_rows: , :-1]\n",
    "X_test_b = np.c_[np.ones((X_test.shape[0], 1)), X_test ]\n",
    "\n",
    "\n",
    "\n",
    "y_test = lb.transform( data[te_rows:, -1]  )\n",
    "y_test_sk = data[te_rows:, -1]\n",
    "\n",
    "\n",
    "num_rows = X_train_b.shape[0]\n",
    "num_cols = X_train_b.shape[1]\n",
    "\n",
    "num_unique_labels = len( np.unique(y) )\n",
    "\n",
    "\n",
    "# class_weights = X.shape[0] / (2 * np.bincount(y.ravel()))"
   ]
  },
  {
   "cell_type": "code",
   "execution_count": 4,
   "metadata": {
    "ExecuteTime": {
     "end_time": "2020-05-17T20:44:51.550823Z",
     "start_time": "2020-05-17T20:44:51.547831Z"
    }
   },
   "outputs": [],
   "source": [
    "# sample_weights = np.full(8,1/8)\n",
    "\n",
    "# for i in range(y.shape[0]):\n",
    "#      if y[i] == 0:\n",
    "#         sample_weights[i] += class_weights[0]\n",
    "            \n",
    "#      else:\n",
    "#         sample_weights [i] += class_weights[1]"
   ]
  },
  {
   "cell_type": "code",
   "execution_count": 5,
   "metadata": {
    "ExecuteTime": {
     "end_time": "2020-05-17T20:44:51.563789Z",
     "start_time": "2020-05-17T20:44:51.553817Z"
    },
    "code_folding": [
     0,
     5,
     10,
     16,
     29
    ]
   },
   "outputs": [],
   "source": [
    "def sigmoid(x):\n",
    "    \n",
    "    return ( (np.exp(x)) / (1 + np.exp(x) )  )\n",
    "\n",
    "\n",
    "def hyperbolic_tangent(x):\n",
    "    \n",
    "    return ( (np.exp(x) - np.exp(-x)) / (np.exp(x) + np.exp(-x))   )\n",
    "\n",
    "\n",
    "def softmax(x, axis = 1):\n",
    "    \n",
    "    x -= np.max(x, axis=axis, keepdims=True)\n",
    "    return np.exp(x) / np.exp(x).sum(axis=axis, keepdims=True)\n",
    "\n",
    "\n",
    "def my_softmax(x):\n",
    "    \n",
    "    final = [ ]\n",
    "    for i,row in enumerate(x):\n",
    "        \n",
    "        total = sum( [np.exp(scr) for scr in row] )\n",
    "        \n",
    "        final.append( [ np.exp(scr)/total  for scr in row ] )\n",
    "        \n",
    "    \n",
    "    return np.array(final)\n",
    "        \n",
    "        \n",
    "def my_cross_entropy(y_true, y_pred):\n",
    "    \n",
    "    final = []\n",
    "    for y_true, y_pred in zip(y_true,y_pred):\n",
    "        su = 0\n",
    "        for i,y in enumerate(y_true):\n",
    "            su += -y * np.log2(y_pred[i])\n",
    "\n",
    "        final.append(su)\n",
    "        \n",
    "    \n",
    "    return np.average(final)\n",
    "\n",
    "    \n",
    "            "
   ]
  },
  {
   "cell_type": "code",
   "execution_count": 6,
   "metadata": {
    "ExecuteTime": {
     "end_time": "2020-05-17T20:44:51.569773Z",
     "start_time": "2020-05-17T20:44:51.565783Z"
    }
   },
   "outputs": [],
   "source": [
    "\n",
    "Weights = np.random.randn(X_train.shape[1]+1, num_unique_labels) * 0.1\n",
    "\n"
   ]
  },
  {
   "cell_type": "code",
   "execution_count": 7,
   "metadata": {
    "ExecuteTime": {
     "end_time": "2020-05-17T20:44:51.578774Z",
     "start_time": "2020-05-17T20:44:51.570770Z"
    }
   },
   "outputs": [
    {
     "data": {
      "text/plain": [
       "(65, 10)"
      ]
     },
     "execution_count": 7,
     "metadata": {},
     "output_type": "execute_result"
    }
   ],
   "source": [
    "Weights.shape"
   ]
  },
  {
   "cell_type": "code",
   "execution_count": 8,
   "metadata": {
    "ExecuteTime": {
     "end_time": "2020-05-17T20:44:51.584733Z",
     "start_time": "2020-05-17T20:44:51.580744Z"
    }
   },
   "outputs": [],
   "source": [
    "# Weights"
   ]
  },
  {
   "cell_type": "code",
   "execution_count": 9,
   "metadata": {
    "ExecuteTime": {
     "end_time": "2020-05-17T20:44:51.590716Z",
     "start_time": "2020-05-17T20:44:51.585730Z"
    }
   },
   "outputs": [],
   "source": [
    "diff_logloss = lambda y, yhat: - np.average(   np.divide(y, yhat) + np.divide(1-y, 1-yhat)   )\n",
    "\n",
    "\n",
    "diff_sigmoid = lambda x: sigmoid(x) * (1 - sigmoid(x))"
   ]
  },
  {
   "cell_type": "code",
   "execution_count": 10,
   "metadata": {
    "ExecuteTime": {
     "end_time": "2020-05-17T20:44:51.982670Z",
     "start_time": "2020-05-17T20:44:51.592711Z"
    },
    "code_folding": []
   },
   "outputs": [
    {
     "name": "stdout",
     "output_type": "stream",
     "text": [
      "At i:0 Loss: 9.117977655547447\n",
      "At i:50 Loss: 0.11049198046103356\n",
      "At i:100 Loss: 0.03680894196841476\n",
      "At i:150 Loss: 0.016206691629603975\n",
      "At i:199 Loss: 0.00990530125445112\n"
     ]
    }
   ],
   "source": [
    "m = X_train.shape[0]\n",
    "\n",
    "epochs = 200\n",
    "\n",
    "eta = 1e-1\n",
    "\n",
    "for i in range(epochs):\n",
    "    \n",
    "    # Forward Propogation\n",
    "    Zx = X_train_b.dot(Weights)\n",
    "    \n",
    "    yhat = softmax(Zx)\n",
    "    \n",
    "    \n",
    "#     loss = my_cross_entropy(y_train, yhat)\n",
    "    loss = log_loss(y_train_sk, yhat)\n",
    "    \n",
    "    \n",
    "    # + (0.035 * linalg.norm(Weights, ord = 2, axis = 1, keepdims = True))\n",
    "    #Backward propogation\n",
    "    gradient = np.divide( ( X_train_b.T.dot( yhat.reshape(-1,num_unique_labels) - y_train.reshape(-1,num_unique_labels)) ),\n",
    "                         m ) \n",
    " \n",
    "    \n",
    "    step_size = eta * gradient\n",
    "    \n",
    "    if step_size.any() < 1e-3:\n",
    "        break\n",
    "    \n",
    "    Weights -= step_size\n",
    "    \n",
    "    if i % 50 == 0 or i == 199:\n",
    "\n",
    "        print(\"At i:{} Loss: {}\".format(i, loss) )\n",
    "        "
   ]
  },
  {
   "cell_type": "code",
   "execution_count": 11,
   "metadata": {
    "ExecuteTime": {
     "end_time": "2020-05-17T20:44:51.987656Z",
     "start_time": "2020-05-17T20:44:51.984663Z"
    }
   },
   "outputs": [],
   "source": [
    "lr = LogisticRegression(max_iter=epochs, \n",
    "                        solver = 'newton-cg' , \n",
    "                        multi_class = 'multinomial', \n",
    "                        verbose = 100)"
   ]
  },
  {
   "cell_type": "code",
   "execution_count": 12,
   "metadata": {
    "ExecuteTime": {
     "end_time": "2020-05-17T20:44:52.685898Z",
     "start_time": "2020-05-17T20:44:51.988653Z"
    }
   },
   "outputs": [
    {
     "name": "stdout",
     "output_type": "stream",
     "text": [
      "[Parallel(n_jobs=1)]: Using backend SequentialBackend with 1 concurrent workers.\n",
      "[Parallel(n_jobs=1)]: Done   1 out of   1 | elapsed:    0.6s remaining:    0.0s\n",
      "[Parallel(n_jobs=1)]: Done   1 out of   1 | elapsed:    0.6s finished\n"
     ]
    }
   ],
   "source": [
    "lr.fit(X_train_b, y_train_sk)\n",
    "preds = lr.predict(X_train_b)"
   ]
  },
  {
   "cell_type": "code",
   "execution_count": 13,
   "metadata": {
    "ExecuteTime": {
     "end_time": "2020-05-17T20:44:52.695870Z",
     "start_time": "2020-05-17T20:44:52.686895Z"
    }
   },
   "outputs": [
    {
     "data": {
      "text/plain": [
       "0.002614703243631573"
      ]
     },
     "execution_count": 13,
     "metadata": {},
     "output_type": "execute_result"
    }
   ],
   "source": [
    "log_loss(y_train_sk , lr.predict_proba(X_train_b) )"
   ]
  },
  {
   "cell_type": "code",
   "execution_count": 14,
   "metadata": {
    "ExecuteTime": {
     "end_time": "2020-05-17T20:44:52.730777Z",
     "start_time": "2020-05-17T20:44:52.697865Z"
    }
   },
   "outputs": [],
   "source": [
    "my_preds_test = my_softmax( X_test_b.dot(Weights) )\n",
    "\n",
    "sk_preds_test = lr.predict(X_test_b)"
   ]
  },
  {
   "cell_type": "code",
   "execution_count": 15,
   "metadata": {
    "ExecuteTime": {
     "end_time": "2020-05-17T20:44:52.735765Z",
     "start_time": "2020-05-17T20:44:52.731775Z"
    }
   },
   "outputs": [],
   "source": [
    "my_labels = np.argmax(my_preds_test, axis = 1)"
   ]
  },
  {
   "cell_type": "code",
   "execution_count": 16,
   "metadata": {
    "ExecuteTime": {
     "end_time": "2020-05-17T20:44:52.746736Z",
     "start_time": "2020-05-17T20:44:52.736762Z"
    }
   },
   "outputs": [
    {
     "name": "stdout",
     "output_type": "stream",
     "text": [
      "              precision    recall  f1-score   support\n",
      "\n",
      "           0       0.99      0.99      0.99        90\n",
      "           1       0.92      0.94      0.93        82\n",
      "           2       0.96      0.97      0.97        80\n",
      "           3       0.97      0.92      0.94        96\n",
      "           4       0.97      0.95      0.96        82\n",
      "           5       0.92      0.95      0.93        92\n",
      "           6       0.99      0.97      0.98        89\n",
      "           7       0.94      0.98      0.96        85\n",
      "           8       0.90      0.89      0.90        83\n",
      "           9       0.90      0.91      0.91        93\n",
      "\n",
      "    accuracy                           0.95       872\n",
      "   macro avg       0.95      0.95      0.95       872\n",
      "weighted avg       0.95      0.95      0.95       872\n",
      "\n"
     ]
    }
   ],
   "source": [
    "print( classification_report(np.argmax( y_test,axis =1  ), my_labels) )"
   ]
  },
  {
   "cell_type": "code",
   "execution_count": 17,
   "metadata": {
    "ExecuteTime": {
     "end_time": "2020-05-17T20:44:52.756735Z",
     "start_time": "2020-05-17T20:44:52.748760Z"
    }
   },
   "outputs": [
    {
     "name": "stdout",
     "output_type": "stream",
     "text": [
      "              precision    recall  f1-score   support\n",
      "\n",
      "           0       1.00      0.99      0.99        90\n",
      "           1       0.90      0.96      0.93        82\n",
      "           2       0.98      0.99      0.98        80\n",
      "           3       0.95      0.96      0.95        96\n",
      "           4       0.98      0.96      0.97        82\n",
      "           5       0.96      0.93      0.95        92\n",
      "           6       0.99      0.98      0.98        89\n",
      "           7       0.98      0.99      0.98        85\n",
      "           8       0.92      0.87      0.89        83\n",
      "           9       0.93      0.94      0.93        93\n",
      "\n",
      "    accuracy                           0.96       872\n",
      "   macro avg       0.96      0.96      0.96       872\n",
      "weighted avg       0.96      0.96      0.96       872\n",
      "\n"
     ]
    }
   ],
   "source": [
    "print( classification_report(np.argmax( y_test,axis =1  ), sk_preds_test) )"
   ]
  },
  {
   "cell_type": "code",
   "execution_count": 18,
   "metadata": {
    "ExecuteTime": {
     "end_time": "2020-05-17T20:44:52.983104Z",
     "start_time": "2020-05-17T20:44:52.762691Z"
    }
   },
   "outputs": [
    {
     "data": {
      "image/png": "[encoded data removed]",
      "text/plain": [
       "<Figure size 432x288 with 1 Axes>"
      ]
     },
     "metadata": {
      "needs_background": "light"
     },
     "output_type": "display_data"
    }
   ],
   "source": [
    "# precision recall curve\n",
    "precision = dict()\n",
    "recall = dict()\n",
    "for i in range(10):\n",
    "    precision[i], recall[i], _ = precision_recall_curve(y_test[:, i],\n",
    "                                                        my_preds_test[:, i])\n",
    "    plt.plot(recall[i], precision[i], lw=2, label='class {}'.format(i))\n",
    "\n",
    "plt.xlabel(\"recall\")\n",
    "plt.ylabel(\"precision\")\n",
    "plt.legend(loc=\"best\")\n",
    "plt.title(\"precision vs. recall curve with own loggistic regression implementation\")\n",
    "plt.show()"
   ]
  },
  {
   "cell_type": "code",
   "execution_count": 19,
   "metadata": {
    "ExecuteTime": {
     "end_time": "2020-05-17T20:44:52.993076Z",
     "start_time": "2020-05-17T20:44:52.988090Z"
    }
   },
   "outputs": [],
   "source": [
    "sk_prob_test = lr.predict_proba(X_test_b)"
   ]
  },
  {
   "cell_type": "code",
   "execution_count": 20,
   "metadata": {
    "ExecuteTime": {
     "end_time": "2020-05-17T20:44:53.172596Z",
     "start_time": "2020-05-17T20:44:52.995070Z"
    }
   },
   "outputs": [
    {
     "data": {
      "image/png": "[encoded data removed]",
      "text/plain": [
       "<Figure size 432x288 with 1 Axes>"
      ]
     },
     "metadata": {
      "needs_background": "light"
     },
     "output_type": "display_data"
    }
   ],
   "source": [
    "# precision recall curve\n",
    "precision = dict()\n",
    "recall = dict()\n",
    "thresholds = dict()\n",
    "for i in range(10):\n",
    "    precision[i], recall[i], thresholds[i] = precision_recall_curve(y_test[:, i],\n",
    "                                                        sk_prob_test[:, i])\n",
    "    plt.plot(recall[i], precision[i], lw=2, label='class {}'.format(i))\n",
    "\n",
    "plt.xlabel(\"recall\")\n",
    "plt.ylabel(\"precision\")\n",
    "plt.legend(loc=\"best\")\n",
    "plt.title(\"precision vs. recall curve with scikit learn loggistic regression implementation\")\n",
    "plt.show()"
   ]
  },
  {
   "cell_type": "code",
   "execution_count": null,
   "metadata": {},
   "outputs": [],
   "source": []
  }
 ],
 "metadata": {
  "kernelspec": {
   "display_name": "Python 3",
   "language": "python",
   "name": "python3"
  },
  "language_info": {
   "codemirror_mode": {
    "name": "ipython",
    "version": 3
   },
   "file_extension": ".py",
   "mimetype": "text/x-python",
   "name": "python",
   "nbconvert_exporter": "python",
   "pygments_lexer": "ipython3",
   "version": "3.7.1"
  },
  "varInspector": {
   "cols": {
    "lenName": 16,
    "lenType": 16,
    "lenVar": 40
   },
   "kernels_config": {
    "python": {
     "delete_cmd_postfix": "",
     "delete_cmd_prefix": "del ",
     "library": "var_list.py",
     "varRefreshCmd": "print(var_dic_list())"
    },
    "r": {
     "delete_cmd_postfix": ") ",
     "delete_cmd_prefix": "rm(",
     "library": "var_list.r",
     "varRefreshCmd": "cat(var_dic_list()) "
    }
   },
   "types_to_exclude": [
    "module",
    "function",
    "builtin_function_or_method",
    "instance",
    "_Feature"
   ],
   "window_display": false
  }
 },
 "nbformat": 4,
 "nbformat_minor": 2
}
